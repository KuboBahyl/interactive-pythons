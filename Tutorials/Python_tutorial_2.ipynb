{
 "cells": [
  {
   "cell_type": "markdown",
   "metadata": {},
   "source": [
    "# Kurz programovania v Pythone: časť 2\n",
    "\n",
    "Letná škola FKS 2017\n",
    "\n",
    "Jakub Bahyl & Peter Vanya\n",
    "\n",
    "Po absolvovaní `\"Kurz programovania v Pythone: časť 1\"` by sme radi tieto základy aplikovali na niečo praktick0 a užitočné. Skúsime to s fyzikou. Naučíme sa, ako riešiť pohybové rovnice."
   ]
  },
  {
   "cell_type": "markdown",
   "metadata": {},
   "source": [
    "## Trochu teóríe -- druhý Newtonov zákon\n",
    "\n",
    "Súčet síl sa rovná hmotnosť krát zrýchlenie:\n",
    "$$ \\sum_i \\mathbf F_i = m \\mathbf a .$$\n",
    "\n",
    "Zrýchlenie je zmena rýchlosti za jednotku času. Napr. pri zrýchlení 2.5 m/s$^2$ sa rýchlosť zvýši o 2.5 m/s každú sekundu. Intuitívne.\n",
    "\n",
    "Sila $\\mathbf F$ aj zrýchlenie $\\mathbf a$ sú vektory, označujeme ich preto tučným písmom. Každý z nich má tri zložky, v x-ovej, y-ovej a z-ovej osi, napr.:\n",
    "\n",
    "$$\\mathbf F = (F_x, F_y, F_z).$$\n",
    "\n",
    "To isté platí pre rýchlosť, zrýchlenie a mnohé iné veličiny, ako napr. elektrické alebo magnetické pole.\n",
    "\n",
    "Cieľom pre nás je po zadaní síl vyriešiť, ako sa mení rýchlosť a prejdená vzdialenosť v čase. Tento proces sa matematicky nazýva $\\mathbf integrovanie $ a učí sa až v posledných ročníkoch strednej školy. Na počítači to však možno pochopiť omnoho rýchlejšie. O to sa dnes pokúsime."
   ]
  },
  {
   "cell_type": "markdown",
   "metadata": {},
   "source": [
    "## Príklady síl\n",
    "Pre jednoduchosť budeme pokračovať len v jednom rozmere. Ak bude záujem, môžeme vysvetliť, ako to zovšeobecniť na tri rozmery.\n",
    "\n",
    "### Tiažová:\n",
    "$$ F = mg,$$\n",
    "\n",
    "kde $g$ je gravitačné zrýchlenie, $g\\approx 10$ m/s$^2$. Tiažová sila je konštantá, a teda zrýchlenie je konštantné, a teda rýchlosť rovnomerne stúpa s časom. Ako sa mení vzdialenosť bude treba zistiť.\n",
    "\n",
    "### Odporová vo vzduchu:\n",
    "$$ F = \\frac 1 2 C \\rho_v S v^2 = k v^2,$$\n",
    "kde $C$ je koeficient odporu vzduchu, $\\rho_v$ hustota vzduchu, a $S$ prierez predmetu.\n",
    "\n",
    "### Ťahová sila od pružíny:\n",
    "$$ F = -k x,$$\n",
    "kde $k$ je tuhosť pružiny a $x$ výchylka. Sila pôsobí v opačnom smere, ako výchylka.\n"
   ]
  },
  {
   "cell_type": "markdown",
   "metadata": {},
   "source": [
    "## Vektory na počítači\n",
    "\n",
    "Pre naše výpočty budeme potrebovať *knižnice*. Knižnica je veľký zoznam funkcií a objektov, ktoré už niekto napísal za nás a my ho môžeme použiť. Pre naše účely budeme používať 2 základné knižnice:\n",
    "1. NumPy (Numerical Python): inteligentnejšie pracovanie s číslami, vektormi, maticami\n",
    "2. matplotlib: grafické rozhranie pre kreslenie grafov\n",
    "\n",
    "V rýchlosti si vysvetlíme, ako s nimi narábať."
   ]
  },
  {
   "cell_type": "code",
   "execution_count": null,
   "metadata": {
    "collapsed": true
   },
   "outputs": [],
   "source": [
    "# importujeme ich\n",
    "import numpy as np \n",
    "import matplotlib.pyplot as plt\n",
    "%matplotlib inline"
   ]
  },
  {
   "cell_type": "code",
   "execution_count": null,
   "metadata": {},
   "outputs": [],
   "source": [
    "v = np.array([3, 2, 1]) # toto je vektor celých čísel\n",
    "print(v)"
   ]
  },
  {
   "cell_type": "code",
   "execution_count": null,
   "metadata": {},
   "outputs": [],
   "source": [
    "v + v                   # sčítavanie funguje intuitívne"
   ]
  },
  {
   "cell_type": "code",
   "execution_count": null,
   "metadata": {},
   "outputs": [],
   "source": [
    "v - v"
   ]
  },
  {
   "cell_type": "code",
   "execution_count": null,
   "metadata": {},
   "outputs": [],
   "source": [
    "3 * v"
   ]
  },
  {
   "cell_type": "code",
   "execution_count": null,
   "metadata": {},
   "outputs": [],
   "source": [
    "v**2                    # mocnenie po zlozkach"
   ]
  },
  {
   "cell_type": "code",
   "execution_count": null,
   "metadata": {},
   "outputs": [],
   "source": [
    "w = np.arange(10)       # rozsah\n",
    "print(w)"
   ]
  },
  {
   "cell_type": "code",
   "execution_count": null,
   "metadata": {},
   "outputs": [],
   "source": [
    "w = np.arange(10, 1, -1)\n",
    "print(w)"
   ]
  },
  {
   "cell_type": "code",
   "execution_count": null,
   "metadata": {},
   "outputs": [],
   "source": [
    "w = np.linspace(0, 10, 11)   # ak chceme vektor aj s koncami\n",
    "print(w)"
   ]
  },
  {
   "cell_type": "code",
   "execution_count": null,
   "metadata": {},
   "outputs": [],
   "source": [
    "N = 5\n",
    "np.ones(N)            # vektor jednotiek"
   ]
  },
  {
   "cell_type": "code",
   "execution_count": null,
   "metadata": {},
   "outputs": [],
   "source": [
    "N = 8\n",
    "np.zeros(8)           # vektor nul"
   ]
  },
  {
   "cell_type": "code",
   "execution_count": null,
   "metadata": {},
   "outputs": [],
   "source": [
    "x = np.linspace(0, 10, 101)\n",
    "y = x**2 / 100\n",
    "z = np.cos(x)\n",
    "plt.plot(x, y)        # takto sa vyraba graf\n",
    "plt.plot(x, z)\n",
    "plt.xlabel(\"x\")\n",
    "plt.ylabel(\"y\")"
   ]
  },
  {
   "cell_type": "code",
   "execution_count": null,
   "metadata": {
    "scrolled": false
   },
   "outputs": [],
   "source": [
    "M = np.array([[0, 1], [2, 3]])   # matica\n",
    "print(M)"
   ]
  },
  {
   "cell_type": "code",
   "execution_count": null,
   "metadata": {},
   "outputs": [],
   "source": [
    "4 * M           # vynasobime stvorkou vsetky prvky"
   ]
  },
  {
   "cell_type": "code",
   "execution_count": null,
   "metadata": {
    "scrolled": true
   },
   "outputs": [],
   "source": [
    "M * M           # nasobenie po zlozkach"
   ]
  },
  {
   "cell_type": "code",
   "execution_count": null,
   "metadata": {
    "scrolled": true
   },
   "outputs": [],
   "source": [
    "M @ M           # maticove nasobenie, kto to pozna"
   ]
  },
  {
   "cell_type": "code",
   "execution_count": null,
   "metadata": {},
   "outputs": [],
   "source": [
    "v = np.array([1, 3])\n",
    "M @ v           # vektorove nasobenie"
   ]
  },
  {
   "cell_type": "markdown",
   "metadata": {},
   "source": [
    "## [Úloha 0]\n",
    "\n",
    "Vymyslite si vektor a maticu. Vygúglite, ako možno zistiť veľkosť matice a vektora, a ako možno zosumovať ich zložky."
   ]
  },
  {
   "cell_type": "markdown",
   "metadata": {},
   "source": [
    "Teraz vieme (približne!) všetko, čo treba na to, aby sme mohli začať robiť fyziku."
   ]
  },
  {
   "cell_type": "code",
   "execution_count": null,
   "metadata": {
    "collapsed": true
   },
   "outputs": [],
   "source": [
    "# Tvoje riesenie:\n"
   ]
  },
  {
   "cell_type": "markdown",
   "metadata": {},
   "source": [
    "## Prvý príklad: voľný pád kameňa\n",
    "\n",
    "Ak nechám padnúť kameň z výšky $h$, zo zákona zachovania viem vypočítať jeho výslednú rýchlosť na zemi. Treba na to rovnice pre kinetickú a potenciálnu energiu:\n",
    "\n",
    "$$ KE = \\frac 1 2 mv^2,$$\n",
    "$$ PE = m g h.$$\n",
    "\n",
    "Ak sa energia zachováva, viem, že výsledná rýchlosť $v = \\sqrt{2gh}$ (ak neviete, odvoďte).\n",
    "\n",
    "Neviem však, koľko času to potrvá, na to potrebujem trochu iný aparát, a to pohybovú rovnicu $F = ma$.\n",
    "\n",
    "Postupovať budeme tak, že si určíme polohu a rýchlosť na začiatku. K rýchlosti budeme po kúskoch pričítavať zrýchlenie, a k polohe po kúskoch novú rýchlosť, až sa dostaneme zo stola na zem:\n",
    "\\begin{align}\n",
    "a_{i+1} &= F(x_i, v_i) \\,/\\, m,\\\\\n",
    "v_{i+1} &= v_i + a_i \\Delta t,\\\\\n",
    "x_{i+1} &= x_i + v_i \\Delta t.\n",
    "\\end{align}\n",
    "\n",
    "Výsledky budeme ukladať do vektora polohy a rýchlosti.\n",
    "\n",
    "Tento postup sa volá *Eulerova metóda* a je najjednoduchší zo všetkých. V praxi sa však nepoužíva, medzičasom vymysleli sofistikovanejšie algoritmy. Najznámejšie sú Runge-Kutta 4 a hlavne Verletov algoritmus využívaný v obrovských atomových simuláciách:\n",
    "\n",
    "\\begin{align}\n",
    "x_{i+1} &= 2 x_i - x_{i-1} + \\frac{F(x_i)}{m} \\Delta t^2.\n",
    "\\end{align}\n"
   ]
  },
  {
   "cell_type": "code",
   "execution_count": null,
   "metadata": {
    "collapsed": true
   },
   "outputs": [],
   "source": [
    "dt = 0.01       # casovy krok\n",
    "N = 100         # pocet casovych krokov\n",
    "g = -10         # gravitacne zrychlenie smerom nadol, preto minus\n",
    "m = 1.0         # hmotnost\n",
    "F = m * g       # tiazova sila, konstantna v case a priestore\n",
    "\n",
    "v = np.zeros(N)\n",
    "x = np.zeros(N)\n",
    "t = np.arange(0, N * dt, dt)\n",
    "v[0] = 0.0      # pociatocna rychlost\n",
    "x[0] = 2.0      # pociatocna vyska\n",
    "\n",
    "for i in range(N-1):\n",
    "    a = F / m     # v tomto priklade tento riadok netreba, v dalsich ale ano!\n",
    "    v[i+1] = v[i] + a * dt\n",
    "    x[i+1] = x[i] + v[i] * dt"
   ]
  },
  {
   "cell_type": "code",
   "execution_count": null,
   "metadata": {},
   "outputs": [],
   "source": [
    "plt.plot(t, x)\n",
    "plt.xlabel(\"t\")\n",
    "plt.ylabel(\"vyska\")"
   ]
  },
  {
   "cell_type": "markdown",
   "metadata": {},
   "source": [
    "Kameň nám prepadol cez podlahu a letí o poschodie nižšie. To ale z hľadiska fyziky nevadí."
   ]
  },
  {
   "cell_type": "markdown",
   "metadata": {},
   "source": [
    "## [Úloha 1]\n",
    "Napíšte funkciu pre kinetickú a potenciálnu energiu ich a tiež ich súčet pre každý časový krok. Uložte ich do vektora a vykreslite v grafe. Dostali ste očakávaný výsledok? "
   ]
  },
  {
   "cell_type": "code",
   "execution_count": null,
   "metadata": {
    "collapsed": true
   },
   "outputs": [],
   "source": [
    "# Tvoje riesenie:\n"
   ]
  },
  {
   "cell_type": "markdown",
   "metadata": {},
   "source": [
    "## [Úloha 2]: kmitanie na pružine\n",
    "\n",
    "Ak posadíme závažie na pružinu a vychýlime ho o $x$, sila, ktorou bude pružina na závažie pôsobiť, je $F(x) = -kx$. \n",
    "\n",
    "Podobne ako v predošlom príklade, zistite, ako sa takýto systém vyvíja v čase. Majte na pamäti, že tentokrát sa zrýchlenie mení v čase, a teda ho treba priebežne upravovať.\n",
    "\n",
    "Spočítajte takisto kinetickú a potenciálnu energiu (vygúglite alebo uhádnite, aký tvar má potenciálna energia závažia na pružine) v každom čase a vykreslite.\n",
    "\n",
    "Nastáva v čase nejaký nárast alebo pokles? Ak áno, pohrajte sa s veľkosťou kroku $\\Delta t$. Toto je dôležitá veličina, ktorú sme podrobne neprediskutovali, avšak pre presnosť simulácie je kľúčová."
   ]
  },
  {
   "cell_type": "code",
   "execution_count": null,
   "metadata": {
    "collapsed": true
   },
   "outputs": [],
   "source": [
    "# Tvoje riesenie:\n"
   ]
  },
  {
   "cell_type": "markdown",
   "metadata": {},
   "source": [
    "## [Úloha 3]: kmitanie na pružine v odporovom prostredí\n",
    "\n",
    "Pod odporom si predstavme vzduch, vodu alebo med. Prečo by pružiny nemohli kmitať v mede? \n",
    "\n",
    "Okrem ťahovej sily od pružiny tu pôsobí sila odporová: $F = \\kappa v^2$.\n",
    "\n",
    "Vyriešte rovnice pre rôzne hodnoty odporovej konštanty $\\kappa$, od nuly po 5 alebo viac. Ako tuhosť vyberte $k=1$ a hmotnosť $m=1$. Aké kvalitatívne zmeny nastávajú pri kmitaní?"
   ]
  },
  {
   "cell_type": "code",
   "execution_count": null,
   "metadata": {
    "collapsed": true
   },
   "outputs": [],
   "source": [
    "# Tvoje riesenie:\n"
   ]
  },
  {
   "cell_type": "markdown",
   "metadata": {
    "collapsed": true
   },
   "source": [
    "## [Úloha 4*]: šikmý vrh \n",
    "Nasimulujte šikmý vrh, ideálne aj v odporovom prostredí."
   ]
  },
  {
   "cell_type": "code",
   "execution_count": null,
   "metadata": {
    "collapsed": true
   },
   "outputs": [],
   "source": [
    "# Tvoje riesenie:\n"
   ]
  }
 ],
 "metadata": {
  "kernelspec": {
   "display_name": "Python 3",
   "language": "python",
   "name": "python3"
  },
  "language_info": {
   "codemirror_mode": {
    "name": "ipython",
    "version": 3
   },
   "file_extension": ".py",
   "mimetype": "text/x-python",
   "name": "python",
   "nbconvert_exporter": "python",
   "pygments_lexer": "ipython3",
   "version": "3.6.2"
  }
 },
 "nbformat": 4,
 "nbformat_minor": 1
}
